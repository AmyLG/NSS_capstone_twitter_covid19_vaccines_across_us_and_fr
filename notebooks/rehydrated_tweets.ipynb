{
 "cells": [
  {
   "cell_type": "code",
   "execution_count": 13,
   "metadata": {},
   "outputs": [],
   "source": [
    "import pandas as pd\n",
    "import json\n",
    "import gzip"
   ]
  },
  {
   "cell_type": "code",
   "execution_count": 9,
   "metadata": {},
   "outputs": [],
   "source": [
    "pd.options.display.max_columns = None\n",
    "pd.options.display.max_rows = None\n",
    "pd.set_option('display.width', None)\n",
    "pd.set_option('display.max_colwidth', None)"
   ]
  },
  {
   "cell_type": "code",
   "execution_count": 18,
   "metadata": {},
   "outputs": [],
   "source": [
    "#with open('../data/coronavirus-tweet-id-2021-05-01-04.jsonl') as f:\n",
    "#    data = [json.loads(line) for line in f]"
   ]
  },
  {
   "cell_type": "code",
   "execution_count": 15,
   "metadata": {},
   "outputs": [],
   "source": [
    "with gzip.open('../data/coronavirus-tweet-id-2021-05-01-04.jsonl.gz') as f:\n",
    "    data = [json.loads(line) for line in f]"
   ]
  },
  {
   "cell_type": "code",
   "execution_count": 29,
   "metadata": {},
   "outputs": [],
   "source": [
    "tweets_05_01_04 = pd.DataFrame(data)"
   ]
  },
  {
   "cell_type": "code",
   "execution_count": 42,
   "metadata": {},
   "outputs": [
    {
     "data": {
      "text/plain": [
       "(145662, 32)"
      ]
     },
     "execution_count": 42,
     "metadata": {},
     "output_type": "execute_result"
    }
   ],
   "source": [
    "tweets_05_01_04.shape"
   ]
  },
  {
   "cell_type": "code",
   "execution_count": 30,
   "metadata": {},
   "outputs": [
    {
     "data": {
      "text/plain": [
       "(96285, 32)"
      ]
     },
     "execution_count": 30,
     "metadata": {},
     "output_type": "execute_result"
    }
   ],
   "source": [
    "tweets_en = tweets_05_01_04[tweets_05_01_04.lang == 'en']\n",
    "tweets_en.shape"
   ]
  },
  {
   "cell_type": "code",
   "execution_count": 40,
   "metadata": {},
   "outputs": [
    {
     "data": {
      "text/plain": [
       "(1534, 32)"
      ]
     },
     "execution_count": 40,
     "metadata": {},
     "output_type": "execute_result"
    }
   ],
   "source": [
    "tweets_fr = tweets_05_01_04[tweets_05_01_04.lang == 'fr']\n",
    "tweets_fr.shape"
   ]
  },
  {
   "cell_type": "code",
   "execution_count": 41,
   "metadata": {},
   "outputs": [
    {
     "data": {
      "text/plain": [
       "Index(['created_at', 'id', 'id_str', 'full_text', 'truncated',\n",
       "       'display_text_range', 'entities', 'extended_entities', 'source',\n",
       "       'in_reply_to_status_id', 'in_reply_to_status_id_str',\n",
       "       'in_reply_to_user_id', 'in_reply_to_user_id_str',\n",
       "       'in_reply_to_screen_name', 'user', 'geo', 'coordinates', 'place',\n",
       "       'contributors', 'is_quote_status', 'retweet_count', 'favorite_count',\n",
       "       'favorited', 'retweeted', 'possibly_sensitive', 'lang',\n",
       "       'retweeted_status', 'quoted_status_id', 'quoted_status_id_str',\n",
       "       'quoted_status_permalink', 'quoted_status', 'withheld_in_countries'],\n",
       "      dtype='object')"
      ]
     },
     "execution_count": 41,
     "metadata": {},
     "output_type": "execute_result"
    }
   ],
   "source": [
    "tweets_fr.columns"
   ]
  },
  {
   "cell_type": "code",
   "execution_count": 44,
   "metadata": {},
   "outputs": [],
   "source": [
    "tweets_fr = tweets_fr[['created_at', 'id', 'full_text', 'retweet_count', 'retweeted', 'lang', 'geo', 'place']]"
   ]
  },
  {
   "cell_type": "code",
   "execution_count": 45,
   "metadata": {},
   "outputs": [
    {
     "data": {
      "text/html": [
       "<div>\n",
       "<style scoped>\n",
       "    .dataframe tbody tr th:only-of-type {\n",
       "        vertical-align: middle;\n",
       "    }\n",
       "\n",
       "    .dataframe tbody tr th {\n",
       "        vertical-align: top;\n",
       "    }\n",
       "\n",
       "    .dataframe thead th {\n",
       "        text-align: right;\n",
       "    }\n",
       "</style>\n",
       "<table border=\"1\" class=\"dataframe\">\n",
       "  <thead>\n",
       "    <tr style=\"text-align: right;\">\n",
       "      <th></th>\n",
       "      <th>created_at</th>\n",
       "      <th>id</th>\n",
       "      <th>full_text</th>\n",
       "      <th>retweet_count</th>\n",
       "      <th>retweeted</th>\n",
       "      <th>lang</th>\n",
       "      <th>geo</th>\n",
       "      <th>place</th>\n",
       "    </tr>\n",
       "  </thead>\n",
       "  <tbody>\n",
       "    <tr>\n",
       "      <th>182</th>\n",
       "      <td>Sat May 01 03:59:59 +0000 2021</td>\n",
       "      <td>1388342408979656705</td>\n",
       "      <td>RT @NicoleDelepine: Covid-19: Consentement éclairé préparé par une femme médecin de Suisse romande. https://t.co/Fwt58ojGhp</td>\n",
       "      <td>147</td>\n",
       "      <td>False</td>\n",
       "      <td>fr</td>\n",
       "      <td>None</td>\n",
       "      <td>None</td>\n",
       "    </tr>\n",
       "    <tr>\n",
       "      <th>184</th>\n",
       "      <td>Sat May 01 03:59:59 +0000 2021</td>\n",
       "      <td>1388342409067646979</td>\n",
       "      <td>RT @JeanYvesTarrade: 💥💥💥💥💥💥💥💥💥💥\\n\"Un centre français d’évaluation des médicaments demande le #retrait_des_quatre_vaccins contre le COVID.\"\\n💥…</td>\n",
       "      <td>838</td>\n",
       "      <td>False</td>\n",
       "      <td>fr</td>\n",
       "      <td>None</td>\n",
       "      <td>None</td>\n",
       "    </tr>\n",
       "    <tr>\n",
       "      <th>204</th>\n",
       "      <td>Sat May 01 03:59:59 +0000 2021</td>\n",
       "      <td>1388342411395485697</td>\n",
       "      <td>RT @BFMTV: 🔴 ALERTE INFO\\nMacron ouvre la vaccination aux +18 ans le 15 juin https://t.co/MQs60aHbwe https://t.co/ynM068CCrC</td>\n",
       "      <td>164</td>\n",
       "      <td>False</td>\n",
       "      <td>fr</td>\n",
       "      <td>None</td>\n",
       "      <td>None</td>\n",
       "    </tr>\n",
       "    <tr>\n",
       "      <th>313</th>\n",
       "      <td>Sat May 01 04:00:01 +0000 2021</td>\n",
       "      <td>1388342420786622465</td>\n",
       "      <td>URGENT INFORMATION on COVID VACCINE via Dr. Carrie Madej\\nhttps://t.co/VhsjPWkeAv</td>\n",
       "      <td>0</td>\n",
       "      <td>False</td>\n",
       "      <td>fr</td>\n",
       "      <td>None</td>\n",
       "      <td>None</td>\n",
       "    </tr>\n",
       "    <tr>\n",
       "      <th>387</th>\n",
       "      <td>Sat May 01 04:00:03 +0000 2021</td>\n",
       "      <td>1388342428709625858</td>\n",
       "      <td>L’exercice réduit-il vraiment le risque de contracter le Covid-19 ? (Dailygeekshow) https://t.co/pMrsHozmNy</td>\n",
       "      <td>0</td>\n",
       "      <td>False</td>\n",
       "      <td>fr</td>\n",
       "      <td>None</td>\n",
       "      <td>None</td>\n",
       "    </tr>\n",
       "  </tbody>\n",
       "</table>\n",
       "</div>"
      ],
      "text/plain": [
       "                         created_at                   id  \\\n",
       "182  Sat May 01 03:59:59 +0000 2021  1388342408979656705   \n",
       "184  Sat May 01 03:59:59 +0000 2021  1388342409067646979   \n",
       "204  Sat May 01 03:59:59 +0000 2021  1388342411395485697   \n",
       "313  Sat May 01 04:00:01 +0000 2021  1388342420786622465   \n",
       "387  Sat May 01 04:00:03 +0000 2021  1388342428709625858   \n",
       "\n",
       "                                                                                                                                          full_text  \\\n",
       "182                     RT @NicoleDelepine: Covid-19: Consentement éclairé préparé par une femme médecin de Suisse romande. https://t.co/Fwt58ojGhp   \n",
       "184  RT @JeanYvesTarrade: 💥💥💥💥💥💥💥💥💥💥\\n\"Un centre français d’évaluation des médicaments demande le #retrait_des_quatre_vaccins contre le COVID.\"\\n💥…   \n",
       "204                    RT @BFMTV: 🔴 ALERTE INFO\\nMacron ouvre la vaccination aux +18 ans le 15 juin https://t.co/MQs60aHbwe https://t.co/ynM068CCrC   \n",
       "313                                                               URGENT INFORMATION on COVID VACCINE via Dr. Carrie Madej\\nhttps://t.co/VhsjPWkeAv   \n",
       "387                                     L’exercice réduit-il vraiment le risque de contracter le Covid-19 ? (Dailygeekshow) https://t.co/pMrsHozmNy   \n",
       "\n",
       "     retweet_count  retweeted lang   geo place  \n",
       "182            147      False   fr  None  None  \n",
       "184            838      False   fr  None  None  \n",
       "204            164      False   fr  None  None  \n",
       "313              0      False   fr  None  None  \n",
       "387              0      False   fr  None  None  "
      ]
     },
     "execution_count": 45,
     "metadata": {},
     "output_type": "execute_result"
    }
   ],
   "source": [
    "tweets_fr.head()"
   ]
  },
  {
   "cell_type": "code",
   "execution_count": null,
   "metadata": {},
   "outputs": [],
   "source": []
  }
 ],
 "metadata": {
  "kernelspec": {
   "display_name": "Python 3",
   "language": "python",
   "name": "python3"
  },
  "language_info": {
   "codemirror_mode": {
    "name": "ipython",
    "version": 3
   },
   "file_extension": ".py",
   "mimetype": "text/x-python",
   "name": "python",
   "nbconvert_exporter": "python",
   "pygments_lexer": "ipython3",
   "version": "3.7.3"
  }
 },
 "nbformat": 4,
 "nbformat_minor": 2
}
