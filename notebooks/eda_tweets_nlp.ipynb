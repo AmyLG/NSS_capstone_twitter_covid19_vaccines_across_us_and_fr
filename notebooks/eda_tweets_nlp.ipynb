{
 "cells": [
  {
   "cell_type": "code",
   "execution_count": 10,
   "metadata": {},
   "outputs": [],
   "source": [
    "import pandas as pd\n",
    "import numpy as np\n",
    "import re\n",
    "\n",
    "from transformers import pipeline\n",
    "from transformers import AutoTokenizer, AutoModelForSequenceClassification\n",
    "\n",
    "import spacy\n",
    "import gensim\n",
    "\n",
    "\n",
    "import plotly.express as px"
   ]
  },
  {
   "cell_type": "code",
   "execution_count": 2,
   "metadata": {},
   "outputs": [],
   "source": [
    "pd.options.display.max_columns = None\n",
    "pd.options.display.max_rows = 300\n",
    "pd.set_option('display.width', None)\n",
    "pd.set_option('display.max_colwidth', None)"
   ]
  },
  {
   "cell_type": "code",
   "execution_count": null,
   "metadata": {},
   "outputs": [],
   "source": [
    "#### title"
   ]
  },
  {
   "cell_type": "code",
   "execution_count": 14,
   "metadata": {},
   "outputs": [
    {
     "data": {
      "text/plain": [
       "(12558, 8)"
      ]
     },
     "execution_count": 14,
     "metadata": {},
     "output_type": "execute_result"
    }
   ],
   "source": [
    "# merging files\n",
    "tweets_fr = pd.concat(\n",
    "    map(pd.read_csv, ['../data/tweets_fr_week_2_translated.csv', '../data/tweets_fr_week4_translated.csv']), ignore_index=True)\n",
    "tweets_fr.shape"
   ]
  },
  {
   "cell_type": "code",
   "execution_count": 4,
   "metadata": {},
   "outputs": [],
   "source": [
    "tweets_us_north = pd.read_csv('../data/tweets_us_north.csv')\n",
    "tweets_us_south = pd.read_csv('../data/tweets_us_south.csv')"
   ]
  },
  {
   "cell_type": "code",
   "execution_count": null,
   "metadata": {},
   "outputs": [],
   "source": [
    "### 'title' use pretrained “distilbert-base-uncased-finetuned-sst-2-english” (default classifier from 🤗)"
   ]
  },
  {
   "cell_type": "code",
   "execution_count": 9,
   "metadata": {
    "scrolled": true
   },
   "outputs": [
    {
     "data": {
      "application/vnd.jupyter.widget-view+json": {
       "model_id": "7312c714ab634d9ba4d7c0152f964b66",
       "version_major": 2,
       "version_minor": 0
      },
      "text/plain": [
       "Downloading:   0%|          | 0.00/629 [00:00<?, ?B/s]"
      ]
     },
     "metadata": {},
     "output_type": "display_data"
    },
    {
     "data": {
      "application/vnd.jupyter.widget-view+json": {
       "model_id": "b2953ce1e1a74dc188e47a588e5f606f",
       "version_major": 2,
       "version_minor": 0
      },
      "text/plain": [
       "Downloading:   0%|          | 0.00/268M [00:00<?, ?B/s]"
      ]
     },
     "metadata": {},
     "output_type": "display_data"
    },
    {
     "data": {
      "application/vnd.jupyter.widget-view+json": {
       "model_id": "a5212ef675f84692a2c20905f6bfde43",
       "version_major": 2,
       "version_minor": 0
      },
      "text/plain": [
       "Downloading:   0%|          | 0.00/232k [00:00<?, ?B/s]"
      ]
     },
     "metadata": {},
     "output_type": "display_data"
    },
    {
     "data": {
      "application/vnd.jupyter.widget-view+json": {
       "model_id": "fba010f8ff7d4294af64fd80c212ab7e",
       "version_major": 2,
       "version_minor": 0
      },
      "text/plain": [
       "Downloading:   0%|          | 0.00/48.0 [00:00<?, ?B/s]"
      ]
     },
     "metadata": {},
     "output_type": "display_data"
    }
   ],
   "source": [
    "classifier = pipeline('sentiment-analysis')"
   ]
  },
  {
   "cell_type": "code",
   "execution_count": 24,
   "metadata": {},
   "outputs": [
    {
     "name": "stderr",
     "output_type": "stream",
     "text": [
      "/Users/armelleleguelte/anaconda3/lib/python3.7/site-packages/ipykernel_launcher.py:1: SettingWithCopyWarning: \n",
      "A value is trying to be set on a copy of a slice from a DataFrame.\n",
      "Try using .loc[row_indexer,col_indexer] = value instead\n",
      "\n",
      "See the caveats in the documentation: https://pandas.pydata.org/pandas-docs/stable/user_guide/indexing.html#returning-a-view-versus-a-copy\n",
      "  \"\"\"Entry point for launching an IPython kernel.\n"
     ]
    }
   ],
   "source": [
    "test[\"score\"] = test[\"translated_text\"].apply(classifier)"
   ]
  },
  {
   "cell_type": "code",
   "execution_count": null,
   "metadata": {},
   "outputs": [],
   "source": []
  },
  {
   "cell_type": "code",
   "execution_count": 25,
   "metadata": {},
   "outputs": [
    {
     "data": {
      "text/html": [
       "<div>\n",
       "<style scoped>\n",
       "    .dataframe tbody tr th:only-of-type {\n",
       "        vertical-align: middle;\n",
       "    }\n",
       "\n",
       "    .dataframe tbody tr th {\n",
       "        vertical-align: top;\n",
       "    }\n",
       "\n",
       "    .dataframe thead th {\n",
       "        text-align: right;\n",
       "    }\n",
       "</style>\n",
       "<table border=\"1\" class=\"dataframe\">\n",
       "  <thead>\n",
       "    <tr style=\"text-align: right;\">\n",
       "      <th></th>\n",
       "      <th>id</th>\n",
       "      <th>date</th>\n",
       "      <th>location</th>\n",
       "      <th>follower_count</th>\n",
       "      <th>retweets</th>\n",
       "      <th>text</th>\n",
       "      <th>vaccine</th>\n",
       "      <th>translated_text</th>\n",
       "      <th>score</th>\n",
       "    </tr>\n",
       "  </thead>\n",
       "  <tbody>\n",
       "    <tr>\n",
       "      <th>0</th>\n",
       "      <td>1393495540940300288</td>\n",
       "      <td>2021-05-15 09:16:41</td>\n",
       "      <td>Bordeaux</td>\n",
       "      <td>1133</td>\n",
       "      <td>0</td>\n",
       "      <td>Ah ca c'est un autre pb. De toute facon, la limitation, c'est le nombre de doses achetées (les graph sur VaccinTracker motre bien qu'a part Aztrazeneca, on consomme tout ce qui nous est livré). Donc tant que ca produira pas plus...</td>\n",
       "      <td>astrazeneca</td>\n",
       "      <td>This is another pb. In any case, the limitation is the number of doses purchased (the graphs on VaccinTracker motor although from Aztrazeneca, we consume everything that is delivered to us). So as long as it does not produce more...</td>\n",
       "      <td>[{'label': 'NEGATIVE', 'score': 0.9971478581428528}]</td>\n",
       "    </tr>\n",
       "    <tr>\n",
       "      <th>1</th>\n",
       "      <td>1393468639328747520</td>\n",
       "      <td>2021-05-15 07:29:47</td>\n",
       "      <td>France</td>\n",
       "      <td>93</td>\n",
       "      <td>0</td>\n",
       "      <td>100% des cas graves pour Aztrazeneca. 95/97 pour les autres.</td>\n",
       "      <td>astrazeneca</td>\n",
       "      <td>100% serious cases for Aztrazeneca. 95/97 for others.</td>\n",
       "      <td>[{'label': 'NEGATIVE', 'score': 0.7635113596916199}]</td>\n",
       "    </tr>\n",
       "  </tbody>\n",
       "</table>\n",
       "</div>"
      ],
      "text/plain": [
       "                    id                 date  location  follower_count  \\\n",
       "0  1393495540940300288  2021-05-15 09:16:41  Bordeaux            1133   \n",
       "1  1393468639328747520  2021-05-15 07:29:47    France              93   \n",
       "\n",
       "   retweets  \\\n",
       "0         0   \n",
       "1         0   \n",
       "\n",
       "                                                                                                                                                                                                                                       text  \\\n",
       "0   Ah ca c'est un autre pb. De toute facon, la limitation, c'est le nombre de doses achetées (les graph sur VaccinTracker motre bien qu'a part Aztrazeneca, on consomme tout ce qui nous est livré). Donc tant que ca produira pas plus...   \n",
       "1                                                                                                                                                                              100% des cas graves pour Aztrazeneca. 95/97 pour les autres.   \n",
       "\n",
       "       vaccine  \\\n",
       "0  astrazeneca   \n",
       "1  astrazeneca   \n",
       "\n",
       "                                                                                                                                                                                                                            translated_text  \\\n",
       "0  This is another pb. In any case, the limitation is the number of doses purchased (the graphs on VaccinTracker motor although from Aztrazeneca, we consume everything that is delivered to us). So as long as it does not produce more...   \n",
       "1                                                                                                                                                                                     100% serious cases for Aztrazeneca. 95/97 for others.   \n",
       "\n",
       "                                                  score  \n",
       "0  [{'label': 'NEGATIVE', 'score': 0.9971478581428528}]  \n",
       "1  [{'label': 'NEGATIVE', 'score': 0.7635113596916199}]  "
      ]
     },
     "execution_count": 25,
     "metadata": {},
     "output_type": "execute_result"
    }
   ],
   "source": [
    "test"
   ]
  },
  {
   "cell_type": "code",
   "execution_count": 26,
   "metadata": {},
   "outputs": [
    {
     "name": "stdout",
     "output_type": "stream",
     "text": [
      "<class 'pandas.core.frame.DataFrame'>\n",
      "RangeIndex: 2 entries, 0 to 1\n",
      "Data columns (total 9 columns):\n",
      " #   Column           Non-Null Count  Dtype \n",
      "---  ------           --------------  ----- \n",
      " 0   id               2 non-null      int64 \n",
      " 1   date             2 non-null      object\n",
      " 2   location         2 non-null      object\n",
      " 3   follower_count   2 non-null      int64 \n",
      " 4   retweets         2 non-null      int64 \n",
      " 5   text             2 non-null      object\n",
      " 6   vaccine          2 non-null      object\n",
      " 7   translated_text  2 non-null      object\n",
      " 8   score            2 non-null      object\n",
      "dtypes: int64(3), object(6)\n",
      "memory usage: 272.0+ bytes\n"
     ]
    }
   ],
   "source": [
    "test.info()"
   ]
  },
  {
   "cell_type": "code",
   "execution_count": null,
   "metadata": {},
   "outputs": [],
   "source": [
    "# Need to split on the \",\" to get 2 columns then can split \"'\" to get Neg and number"
   ]
  },
  {
   "cell_type": "code",
   "execution_count": null,
   "metadata": {},
   "outputs": [],
   "source": []
  }
 ],
 "metadata": {
  "kernelspec": {
   "display_name": "Python 3",
   "language": "python",
   "name": "python3"
  },
  "language_info": {
   "codemirror_mode": {
    "name": "ipython",
    "version": 3
   },
   "file_extension": ".py",
   "mimetype": "text/x-python",
   "name": "python",
   "nbconvert_exporter": "python",
   "pygments_lexer": "ipython3",
   "version": "3.7.3"
  }
 },
 "nbformat": 4,
 "nbformat_minor": 2
}
