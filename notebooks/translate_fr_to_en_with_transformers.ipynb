{
 "cells": [
  {
   "cell_type": "code",
   "execution_count": 1,
   "metadata": {},
   "outputs": [],
   "source": [
    "import pandas as pd\n",
    "from transformers import pipeline\n",
    "from transformers import AutoModelWithLMHead, AutoTokenizer"
   ]
  },
  {
   "cell_type": "code",
   "execution_count": 16,
   "metadata": {},
   "outputs": [],
   "source": [
    "pd.options.display.max_columns = None\n",
    "pd.options.display.max_rows = None\n",
    "pd.set_option('display.width', None)\n",
    "pd.set_option('display.max_colwidth', None)"
   ]
  },
  {
   "cell_type": "code",
   "execution_count": 2,
   "metadata": {},
   "outputs": [
    {
     "name": "stderr",
     "output_type": "stream",
     "text": [
      "/Users/armelleleguelte/anaconda3/lib/python3.7/site-packages/transformers/models/auto/modeling_auto.py:810: FutureWarning: The class `AutoModelWithLMHead` is deprecated and will be removed in a future version. Please use `AutoModelForCausalLM` for causal language models, `AutoModelForMaskedLM` for masked language models and `AutoModelForSeq2SeqLM` for encoder-decoder models.\n",
      "  FutureWarning,\n"
     ]
    },
    {
     "data": {
      "application/vnd.jupyter.widget-view+json": {
       "model_id": "29a18bde99154aa9aa2d32e9e757cf06",
       "version_major": 2,
       "version_minor": 0
      },
      "text/plain": [
       "Downloading:   0%|          | 0.00/802k [00:00<?, ?B/s]"
      ]
     },
     "metadata": {},
     "output_type": "display_data"
    },
    {
     "data": {
      "application/vnd.jupyter.widget-view+json": {
       "model_id": "b05189e1649b4fb982fec6ba5e41e59e",
       "version_major": 2,
       "version_minor": 0
      },
      "text/plain": [
       "Downloading:   0%|          | 0.00/778k [00:00<?, ?B/s]"
      ]
     },
     "metadata": {},
     "output_type": "display_data"
    },
    {
     "data": {
      "application/vnd.jupyter.widget-view+json": {
       "model_id": "ca8c0fe3ed494ab5bb3dd3e930f267e3",
       "version_major": 2,
       "version_minor": 0
      },
      "text/plain": [
       "Downloading:   0%|          | 0.00/1.34M [00:00<?, ?B/s]"
      ]
     },
     "metadata": {},
     "output_type": "display_data"
    },
    {
     "data": {
      "application/vnd.jupyter.widget-view+json": {
       "model_id": "6f6faa000458427f8e0a5bde8e19754d",
       "version_major": 2,
       "version_minor": 0
      },
      "text/plain": [
       "Downloading:   0%|          | 0.00/42.0 [00:00<?, ?B/s]"
      ]
     },
     "metadata": {},
     "output_type": "display_data"
    }
   ],
   "source": [
    "model = AutoModelWithLMHead.from_pretrained(\"Helsinki-NLP/opus-mt-fr-en\")\n",
    "tokenizer = AutoTokenizer.from_pretrained(\"Helsinki-NLP/opus-mt-fr-en\")"
   ]
  },
  {
   "cell_type": "code",
   "execution_count": 3,
   "metadata": {},
   "outputs": [],
   "source": [
    "translation = pipeline(\"translation_fr_to_en\", model=model, tokenizer=tokenizer)"
   ]
  },
  {
   "cell_type": "code",
   "execution_count": 4,
   "metadata": {},
   "outputs": [
    {
     "name": "stdout",
     "output_type": "stream",
     "text": [
      "@Sante_Gouv 1st dose today in moderna for me apart from shoulder pain all is well :)\n"
     ]
    }
   ],
   "source": [
    "text = \"@Sante_Gouv 1ere dose aujourd'hui en moderna pour moi a part douleur a l'épaule tout vas bien :)\"\n",
    "translated_text = translation(text, max_length=40)[0]['translation_text']\n",
    "print(translated_text)"
   ]
  },
  {
   "cell_type": "code",
   "execution_count": 33,
   "metadata": {},
   "outputs": [],
   "source": [
    "test = pd.read_csv('../data/tweets_fr/JandJ/tweets_fr_jandj_2021_05_19_to_05_14.csv')"
   ]
  },
  {
   "cell_type": "code",
   "execution_count": 34,
   "metadata": {},
   "outputs": [
    {
     "data": {
      "text/plain": [
       "(21, 9)"
      ]
     },
     "execution_count": 34,
     "metadata": {},
     "output_type": "execute_result"
    }
   ],
   "source": [
    "test.shape"
   ]
  },
  {
   "cell_type": "code",
   "execution_count": 35,
   "metadata": {},
   "outputs": [],
   "source": [
    "test = test.dropna()"
   ]
  },
  {
   "cell_type": "code",
   "execution_count": 36,
   "metadata": {},
   "outputs": [
    {
     "data": {
      "text/plain": [
       "(21, 9)"
      ]
     },
     "execution_count": 36,
     "metadata": {},
     "output_type": "execute_result"
    }
   ],
   "source": [
    "test.shape"
   ]
  },
  {
   "cell_type": "code",
   "execution_count": 37,
   "metadata": {},
   "outputs": [],
   "source": [
    "test = test[['Tweet Id', 'Tweet Text']]"
   ]
  },
  {
   "cell_type": "code",
   "execution_count": 38,
   "metadata": {
    "scrolled": true
   },
   "outputs": [
    {
     "data": {
      "text/html": [
       "<div>\n",
       "<style scoped>\n",
       "    .dataframe tbody tr th:only-of-type {\n",
       "        vertical-align: middle;\n",
       "    }\n",
       "\n",
       "    .dataframe tbody tr th {\n",
       "        vertical-align: top;\n",
       "    }\n",
       "\n",
       "    .dataframe thead th {\n",
       "        text-align: right;\n",
       "    }\n",
       "</style>\n",
       "<table border=\"1\" class=\"dataframe\">\n",
       "  <thead>\n",
       "    <tr style=\"text-align: right;\">\n",
       "      <th></th>\n",
       "      <th>Tweet Id</th>\n",
       "      <th>Tweet Text</th>\n",
       "    </tr>\n",
       "  </thead>\n",
       "  <tbody>\n",
       "    <tr>\n",
       "      <th>0</th>\n",
       "      <td>1395070529724370944</td>\n",
       "      <td>b\"En live du meetup  #dataprivacy --&amp;gt; la #pseudonymisation n\\xc3\\xa9cessite des actions diff\\xc3\\xa9rentes par rapport \\xc3\\xa0 l'anonymisation selon Val\\xc3\\xa9rie Gabay, Senior Manager Data Privacy chez  Johnson &amp;amp; Johnson https://t.co/yRB6j8FKrq\"</td>\n",
       "    </tr>\n",
       "    <tr>\n",
       "      <th>1</th>\n",
       "      <td>1394763808799961090</td>\n",
       "      <td>b\"Johnson &amp;amp; Johnson a \\xc3\\xa9t\\xc3\\xa9 condamn\\xc3\\xa9e plusieurs fois pour avoir sous-estim\\xc3\\xa9 les risques et surestim\\xc3\\xa9 les b\\xc3\\xa9n\\xc3\\xa9fices d'opio\\xc3\\xafdes, participant ainsi \\xc3\\xa0 la crise des opio\\xc3\\xafdes.  \\nC'est \\xc3\\xa0 ce genre d'entreprise qu'on vous demande de faire confiance aveugl\\xc3\\xa9ment.\\nhttps://t.co/MVCRGHL75t\"</td>\n",
       "    </tr>\n",
       "  </tbody>\n",
       "</table>\n",
       "</div>"
      ],
      "text/plain": [
       "              Tweet Id  \\\n",
       "0  1395070529724370944   \n",
       "1  1394763808799961090   \n",
       "\n",
       "                                                                                                                                                                                                                                                                                                                                                                      Tweet Text  \n",
       "0                                                                                                                b\"En live du meetup  #dataprivacy --&gt; la #pseudonymisation n\\xc3\\xa9cessite des actions diff\\xc3\\xa9rentes par rapport \\xc3\\xa0 l'anonymisation selon Val\\xc3\\xa9rie Gabay, Senior Manager Data Privacy chez  Johnson &amp; Johnson https://t.co/yRB6j8FKrq\"  \n",
       "1  b\"Johnson &amp; Johnson a \\xc3\\xa9t\\xc3\\xa9 condamn\\xc3\\xa9e plusieurs fois pour avoir sous-estim\\xc3\\xa9 les risques et surestim\\xc3\\xa9 les b\\xc3\\xa9n\\xc3\\xa9fices d'opio\\xc3\\xafdes, participant ainsi \\xc3\\xa0 la crise des opio\\xc3\\xafdes.  \\nC'est \\xc3\\xa0 ce genre d'entreprise qu'on vous demande de faire confiance aveugl\\xc3\\xa9ment.\\nhttps://t.co/MVCRGHL75t\"  "
      ]
     },
     "execution_count": 38,
     "metadata": {},
     "output_type": "execute_result"
    }
   ],
   "source": [
    "test.head(2)"
   ]
  },
  {
   "cell_type": "code",
   "execution_count": 39,
   "metadata": {},
   "outputs": [],
   "source": [
    "test = test[\"Tweet Text\"].map(lambda x: eval(x).decode(\"utf-8\").replace('\\n', ' ')).to_frame()"
   ]
  },
  {
   "cell_type": "code",
   "execution_count": 41,
   "metadata": {
    "scrolled": true
   },
   "outputs": [
    {
     "data": {
      "text/html": [
       "<div>\n",
       "<style scoped>\n",
       "    .dataframe tbody tr th:only-of-type {\n",
       "        vertical-align: middle;\n",
       "    }\n",
       "\n",
       "    .dataframe tbody tr th {\n",
       "        vertical-align: top;\n",
       "    }\n",
       "\n",
       "    .dataframe thead th {\n",
       "        text-align: right;\n",
       "    }\n",
       "</style>\n",
       "<table border=\"1\" class=\"dataframe\">\n",
       "  <thead>\n",
       "    <tr style=\"text-align: right;\">\n",
       "      <th></th>\n",
       "      <th>Tweet Text</th>\n",
       "    </tr>\n",
       "  </thead>\n",
       "  <tbody>\n",
       "    <tr>\n",
       "      <th>0</th>\n",
       "      <td>En live du meetup  #dataprivacy --&amp;gt; la #pseudonymisation nécessite des actions différentes par rapport à l'anonymisation selon Valérie Gabay, Senior Manager Data Privacy chez  Johnson &amp;amp; Johnson https://t.co/yRB6j8FKrq</td>\n",
       "    </tr>\n",
       "    <tr>\n",
       "      <th>1</th>\n",
       "      <td>Johnson &amp;amp; Johnson a été condamnée plusieurs fois pour avoir sous-estimé les risques et surestimé les bénéfices d'opioïdes, participant ainsi à la crise des opioïdes.   C'est à ce genre d'entreprise qu'on vous demande de faire confiance aveuglément. https://t.co/MVCRGHL75t</td>\n",
       "    </tr>\n",
       "    <tr>\n",
       "      <th>2</th>\n",
       "      <td>Une jeune mère souffre d'une hémorragie cérébrale après le vaccin Johnson &amp;amp; Johnson https://t.co/quTdfoy3W7</td>\n",
       "    </tr>\n",
       "  </tbody>\n",
       "</table>\n",
       "</div>"
      ],
      "text/plain": [
       "                                                                                                                                                                                                                                                                             Tweet Text\n",
       "0                                                      En live du meetup  #dataprivacy --&gt; la #pseudonymisation nécessite des actions différentes par rapport à l'anonymisation selon Valérie Gabay, Senior Manager Data Privacy chez  Johnson &amp; Johnson https://t.co/yRB6j8FKrq\n",
       "1  Johnson &amp; Johnson a été condamnée plusieurs fois pour avoir sous-estimé les risques et surestimé les bénéfices d'opioïdes, participant ainsi à la crise des opioïdes.   C'est à ce genre d'entreprise qu'on vous demande de faire confiance aveuglément. https://t.co/MVCRGHL75t\n",
       "2                                                                                                                                                                       Une jeune mère souffre d'une hémorragie cérébrale après le vaccin Johnson &amp; Johnson https://t.co/quTdfoy3W7"
      ]
     },
     "execution_count": 41,
     "metadata": {},
     "output_type": "execute_result"
    }
   ],
   "source": [
    "test.head(3)"
   ]
  },
  {
   "cell_type": "code",
   "execution_count": null,
   "metadata": {},
   "outputs": [],
   "source": []
  },
  {
   "cell_type": "code",
   "execution_count": null,
   "metadata": {},
   "outputs": [],
   "source": []
  },
  {
   "cell_type": "code",
   "execution_count": 28,
   "metadata": {},
   "outputs": [
    {
     "name": "stdout",
     "output_type": "stream",
     "text": [
      "Johnson &amp; Johnson has been condemned several times for underestimating the risks and overestimating the benefits of opioids, thus participating in the opioids crisis. It is in this kind of business that you are asked to trust blindly. https://t.co/MVCRGHL75t\n"
     ]
    }
   ],
   "source": [
    "text = \"Johnson &amp; Johnson a été condamnée plusieurs fois pour avoir sous-estimé les risques et surestimé les bénéfices d'opioïdes, participant ainsi à la crise des opioïdes. C'est à ce genre d'entreprise qu'on vous demande de faire confiance aveuglément. https://t.co/MVCRGHL75t\"\n",
    "translated_text = translation(text, max_length=140)[0]['translation_text']\n",
    "print(translated_text)"
   ]
  },
  {
   "cell_type": "code",
   "execution_count": 29,
   "metadata": {},
   "outputs": [
    {
     "ename": "TypeError",
     "evalue": "'method' object is not iterable",
     "output_type": "error",
     "traceback": [
      "\u001b[0;31m---------------------------------------------------------------------------\u001b[0m",
      "\u001b[0;31mTypeError\u001b[0m                                 Traceback (most recent call last)",
      "\u001b[0;32m<ipython-input-29-cc70253d3e52>\u001b[0m in \u001b[0;36m<module>\u001b[0;34m\u001b[0m\n\u001b[1;32m      1\u001b[0m \u001b[0mtranslate\u001b[0m \u001b[0;34m=\u001b[0m \u001b[0;34m[\u001b[0m\u001b[0;34m]\u001b[0m\u001b[0;34m\u001b[0m\u001b[0;34m\u001b[0m\u001b[0m\n\u001b[0;32m----> 2\u001b[0;31m \u001b[0;32mfor\u001b[0m \u001b[0mindex\u001b[0m\u001b[0;34m,\u001b[0m \u001b[0mrow\u001b[0m \u001b[0;32min\u001b[0m \u001b[0mtest\u001b[0m\u001b[0;34m.\u001b[0m\u001b[0miterrows\u001b[0m\u001b[0;34m:\u001b[0m\u001b[0;34m\u001b[0m\u001b[0;34m\u001b[0m\u001b[0m\n\u001b[0m\u001b[1;32m      3\u001b[0m     \u001b[0mtranslation\u001b[0m\u001b[0;34m(\u001b[0m\u001b[0mtest\u001b[0m\u001b[0;34m[\u001b[0m\u001b[0;34m\"Tweet Text\"\u001b[0m\u001b[0;34m]\u001b[0m\u001b[0;34m,\u001b[0m \u001b[0mmax_length\u001b[0m\u001b[0;34m=\u001b[0m\u001b[0;36m140\u001b[0m\u001b[0;34m)\u001b[0m\u001b[0;34m[\u001b[0m\u001b[0;34m'translation_text'\u001b[0m\u001b[0;34m]\u001b[0m\u001b[0;34m\u001b[0m\u001b[0;34m\u001b[0m\u001b[0m\n\u001b[1;32m      4\u001b[0m \u001b[0;34m\u001b[0m\u001b[0m\n",
      "\u001b[0;31mTypeError\u001b[0m: 'method' object is not iterable"
     ]
    }
   ],
   "source": [
    "translate = []\n",
    "for index, row in test.iterrows:\n",
    "    translation(test[\"Tweet Text\"], max_length=140)['translation_text']\n",
    "    "
   ]
  },
  {
   "cell_type": "code",
   "execution_count": 25,
   "metadata": {},
   "outputs": [
    {
     "ename": "ValueError",
     "evalue": " `args[0]`: 0                                                         En live du meetup  #dataprivacy --&gt; la #pseudonymisation nécessite des actions différentes par rapport à l'anonymisation selon Valérie Gabay, Senior Manager Data Privacy chez  Johnson &amp; Johnson https://t.co/yRB6j8FKrq\n1     Johnson &amp; Johnson a été condamnée plusieurs fois pour avoir sous-estimé les risques et surestimé les bénéfices d'opioïdes, participant ainsi à la crise des opioïdes.   C'est à ce genre d'entreprise qu'on vous demande de faire confiance aveuglément. https://t.co/MVCRGHL75t\n2                                                                                                                                                                          Une jeune mère souffre d'une hémorragie cérébrale après le vaccin Johnson &amp; Johnson https://t.co/quTdfoy3W7\n3                                                                                                    Quand tu souhaites te faire vacciner à 40 ans mais que tu as le choix entre l’ARN...et l’ARN...alors qu’il y a des Johnson &amp; Johnson disponibles. Pays de cons Acte 22, scène 18.\n4                                                                                                                                                                                                            Feu vert de l'UE pour le vaccin Johnson &amp; Johnson https://t.co/Lz8CWhLoTk\n5                                                                                                                                                                                                                             @HenriTsr @BFMTV il y a johnson&amp;johnson maintenant aussi\n6                                                                                                                                        Covid-19 en 24h : ouvertures le dimanche, intentions d'investissements des PME/TPE, Johnson &amp; Johnson... - La Tribune https://t.co/nQPGEEG2qO\n7                                                                                 La Belgique recevra-t-elle assez de doses de vaccin Johnson &amp; Johnson? \"On peut actuellement pointer l'absence de vision à long terme\" (Mise à jour) https://t.co/Z1sIkNslN1 https://t.co/vdfQOkvqQD\n8                                                                                 La Belgique recevra-t-elle assez de doses de vaccin Johnson &amp; Johnson? \"On peut actuellement pointer l'absence de vision à long terme\" (Mise à jour) https://t.co/j38WAzGS6S https://t.co/0LZjkQmVUe\n9                                                                                                           Où en sont les livraisons de vaccin Johnson &amp; Johnson en Belgique? \"On peut pointer l'absence de prédictions à long terme\" https://t.co/Z1sIkNslN1 https://t.co/eSyaiuJdHK\n10                                                                                                          Où en sont les livraisons de vaccin Johnson &amp; Johnson en Belgique? \"On peut pointer l'absence de prédictions à long terme\" https://t.co/j38WAzGS6S https://t.co/hSBFb8DTc7\n11                                                                                                                                                                                                                  Plus de 80% des Japonais contre les JO cet été https://t.co/I6rQKSeZhU\n12                                                                                                                                                            Oula devinez qui va se faire vacciner mardi avec du JOHNSON&amp;JOHNSON (monodose yep) 👀 LES BELGES: INSCRIVEZ VOUS SUR QVAX\n13                                                                                                                                       Covid-19 en 24h : ouvertures le dimanche, intentions d'investissements des PME/TPE, Johnson &amp; Johnson... - La Tribune https://t.co/nQPGEEG2qO\n14            New York propose des séjours vacances + vaccin Janssen 🇧🇪🇪🇺/Johnson &amp; Johnson 🇺🇸 ?   Saint-Marin 🇸🇲 propose les 2 doses de Sputnik-V pour 50 € si vs séjournez au moins 3 nuits ds la principauté.  @gregphil @Loig_L @loicdelamornais @gkuehn   https://t.co/tsSp36FAol\n15                                                                                                  J'avais mis ce RDV Janssen Johnson &amp; Johnson à disposition sur @covidliste de @GuillaumeRozier, mais si @doctolib ne propose pas en ligne ce RDV libéré, cela ne peut fonctionner.\n16                                                                                                                                                                                                                            Pourquoi y’a pas le vaccin Johnson &amp; Johnson en France ?\n17                                                                                                                                                                                                          @ElyssFr Je comprends pourquoi je voulais à tout prix le Johnson &amp; Johnson\n18                                                                                                                                       Covid-19 en 24h : ouvertures le dimanche, intentions d'investissements des PME/TPE, Johnson &amp; Johnson... - La Tribune https://t.co/nQPGEEG2qO\n19                                                                                      🇫🇷 🚗 Époétine-alfa Érythropoïétine Marché 2021-2026 rapport analytique complet – Amgen, Johnson &amp; Johnson, Roche, Galenica – Eechobuzz https://t.co/194fnOCehx  #vehiculeautonome #echobuzz221\n20                                                                                                              Un médecin, qui passait son temps à se moquer et à attaquer les \"anti-vaccins \", se fait vacciner la semaine dernière et a succombé en une semaine https://t.co/T645WnEr6Y\nName: Tweet Text, dtype: object have the wrong format. The should be either of type `str` or type `list`",
     "output_type": "error",
     "traceback": [
      "\u001b[0;31m---------------------------------------------------------------------------\u001b[0m",
      "\u001b[0;31mValueError\u001b[0m                                Traceback (most recent call last)",
      "\u001b[0;32m<ipython-input-25-8a650f445f0c>\u001b[0m in \u001b[0;36m<module>\u001b[0;34m\u001b[0m\n\u001b[0;32m----> 1\u001b[0;31m \u001b[0mtest_translated_text\u001b[0m \u001b[0;34m=\u001b[0m \u001b[0mtranslation\u001b[0m\u001b[0;34m(\u001b[0m\u001b[0mtest\u001b[0m\u001b[0;34m[\u001b[0m\u001b[0;34m\"Tweet Text\"\u001b[0m\u001b[0;34m]\u001b[0m\u001b[0;34m,\u001b[0m \u001b[0mmax_length\u001b[0m\u001b[0;34m=\u001b[0m\u001b[0;36m140\u001b[0m\u001b[0;34m)\u001b[0m\u001b[0;34m[\u001b[0m\u001b[0;34m'translation_text'\u001b[0m\u001b[0;34m]\u001b[0m\u001b[0;34m\u001b[0m\u001b[0;34m\u001b[0m\u001b[0m\n\u001b[0m",
      "\u001b[0;32m~/anaconda3/lib/python3.7/site-packages/transformers/pipelines/text2text_generation.py\u001b[0m in \u001b[0;36m__call__\u001b[0;34m(self, return_tensors, return_text, clean_up_tokenization_spaces, truncation, src_lang, tgt_lang, *args, **generate_kwargs)\u001b[0m\n\u001b[1;32m    318\u001b[0m \u001b[0;34m\u001b[0m\u001b[0m\n\u001b[1;32m    319\u001b[0m         \u001b[0;32mwith\u001b[0m \u001b[0mself\u001b[0m\u001b[0;34m.\u001b[0m\u001b[0mdevice_placement\u001b[0m\u001b[0;34m(\u001b[0m\u001b[0;34m)\u001b[0m\u001b[0;34m:\u001b[0m\u001b[0;34m\u001b[0m\u001b[0;34m\u001b[0m\u001b[0m\n\u001b[0;32m--> 320\u001b[0;31m             \u001b[0minputs\u001b[0m \u001b[0;34m=\u001b[0m \u001b[0mself\u001b[0m\u001b[0;34m.\u001b[0m\u001b[0m_parse_and_tokenize\u001b[0m\u001b[0;34m(\u001b[0m\u001b[0;34m*\u001b[0m\u001b[0margs\u001b[0m\u001b[0;34m,\u001b[0m \u001b[0mtruncation\u001b[0m\u001b[0;34m=\u001b[0m\u001b[0mtruncation\u001b[0m\u001b[0;34m,\u001b[0m \u001b[0msrc_lang\u001b[0m\u001b[0;34m=\u001b[0m\u001b[0msrc_lang\u001b[0m\u001b[0;34m,\u001b[0m \u001b[0mtgt_lang\u001b[0m\u001b[0;34m=\u001b[0m\u001b[0mtgt_lang\u001b[0m\u001b[0;34m)\u001b[0m\u001b[0;34m\u001b[0m\u001b[0;34m\u001b[0m\u001b[0m\n\u001b[0m\u001b[1;32m    321\u001b[0m             \u001b[0;32mreturn\u001b[0m \u001b[0mself\u001b[0m\u001b[0;34m.\u001b[0m\u001b[0m_generate\u001b[0m\u001b[0;34m(\u001b[0m\u001b[0minputs\u001b[0m\u001b[0;34m,\u001b[0m \u001b[0mreturn_tensors\u001b[0m\u001b[0;34m,\u001b[0m \u001b[0mreturn_text\u001b[0m\u001b[0;34m,\u001b[0m \u001b[0mclean_up_tokenization_spaces\u001b[0m\u001b[0;34m,\u001b[0m \u001b[0mgenerate_kwargs\u001b[0m\u001b[0;34m)\u001b[0m\u001b[0;34m\u001b[0m\u001b[0;34m\u001b[0m\u001b[0m\n",
      "\u001b[0;32m~/anaconda3/lib/python3.7/site-packages/transformers/pipelines/text2text_generation.py\u001b[0m in \u001b[0;36m_parse_and_tokenize\u001b[0;34m(self, src_lang, tgt_lang, truncation, *args)\u001b[0m\n\u001b[1;32m    271\u001b[0m             )\n\u001b[1;32m    272\u001b[0m         \u001b[0;32melse\u001b[0m\u001b[0;34m:\u001b[0m\u001b[0;34m\u001b[0m\u001b[0;34m\u001b[0m\u001b[0m\n\u001b[0;32m--> 273\u001b[0;31m             \u001b[0;32mreturn\u001b[0m \u001b[0msuper\u001b[0m\u001b[0;34m(\u001b[0m\u001b[0;34m)\u001b[0m\u001b[0;34m.\u001b[0m\u001b[0m_parse_and_tokenize\u001b[0m\u001b[0;34m(\u001b[0m\u001b[0;34m*\u001b[0m\u001b[0margs\u001b[0m\u001b[0;34m,\u001b[0m \u001b[0mtruncation\u001b[0m\u001b[0;34m=\u001b[0m\u001b[0mtruncation\u001b[0m\u001b[0;34m)\u001b[0m\u001b[0;34m\u001b[0m\u001b[0;34m\u001b[0m\u001b[0m\n\u001b[0m\u001b[1;32m    274\u001b[0m \u001b[0;34m\u001b[0m\u001b[0m\n\u001b[1;32m    275\u001b[0m     def __call__(\n",
      "\u001b[0;32m~/anaconda3/lib/python3.7/site-packages/transformers/pipelines/text2text_generation.py\u001b[0m in \u001b[0;36m_parse_and_tokenize\u001b[0;34m(self, truncation, *args)\u001b[0m\n\u001b[1;32m     67\u001b[0m         \u001b[0;32melse\u001b[0m\u001b[0;34m:\u001b[0m\u001b[0;34m\u001b[0m\u001b[0;34m\u001b[0m\u001b[0m\n\u001b[1;32m     68\u001b[0m             raise ValueError(\n\u001b[0;32m---> 69\u001b[0;31m                 \u001b[0;34mf\" `args[0]`: {args[0]} have the wrong format. The should be either of type `str` or type `list`\"\u001b[0m\u001b[0;34m\u001b[0m\u001b[0;34m\u001b[0m\u001b[0m\n\u001b[0m\u001b[1;32m     70\u001b[0m             )\n\u001b[1;32m     71\u001b[0m         \u001b[0minputs\u001b[0m \u001b[0;34m=\u001b[0m \u001b[0msuper\u001b[0m\u001b[0;34m(\u001b[0m\u001b[0;34m)\u001b[0m\u001b[0;34m.\u001b[0m\u001b[0m_parse_and_tokenize\u001b[0m\u001b[0;34m(\u001b[0m\u001b[0;34m*\u001b[0m\u001b[0margs\u001b[0m\u001b[0;34m,\u001b[0m \u001b[0mpadding\u001b[0m\u001b[0;34m=\u001b[0m\u001b[0mpadding\u001b[0m\u001b[0;34m,\u001b[0m \u001b[0mtruncation\u001b[0m\u001b[0;34m=\u001b[0m\u001b[0mtruncation\u001b[0m\u001b[0;34m)\u001b[0m\u001b[0;34m\u001b[0m\u001b[0;34m\u001b[0m\u001b[0m\n",
      "\u001b[0;31mValueError\u001b[0m:  `args[0]`: 0                                                         En live du meetup  #dataprivacy --&gt; la #pseudonymisation nécessite des actions différentes par rapport à l'anonymisation selon Valérie Gabay, Senior Manager Data Privacy chez  Johnson &amp; Johnson https://t.co/yRB6j8FKrq\n1     Johnson &amp; Johnson a été condamnée plusieurs fois pour avoir sous-estimé les risques et surestimé les bénéfices d'opioïdes, participant ainsi à la crise des opioïdes.   C'est à ce genre d'entreprise qu'on vous demande de faire confiance aveuglément. https://t.co/MVCRGHL75t\n2                                                                                                                                                                          Une jeune mère souffre d'une hémorragie cérébrale après le vaccin Johnson &amp; Johnson https://t.co/quTdfoy3W7\n3                                                                                                    Quand tu souhaites te faire vacciner à 40 ans mais que tu as le choix entre l’ARN...et l’ARN...alors qu’il y a des Johnson &amp; Johnson disponibles. Pays de cons Acte 22, scène 18.\n4                                                                                                                                                                                                            Feu vert de l'UE pour le vaccin Johnson &amp; Johnson https://t.co/Lz8CWhLoTk\n5                                                                                                                                                                                                                             @HenriTsr @BFMTV il y a johnson&amp;johnson maintenant aussi\n6                                                                                                                                        Covid-19 en 24h : ouvertures le dimanche, intentions d'investissements des PME/TPE, Johnson &amp; Johnson... - La Tribune https://t.co/nQPGEEG2qO\n7                                                                                 La Belgique recevra-t-elle assez de doses de vaccin Johnson &amp; Johnson? \"On peut actuellement pointer l'absence de vision à long terme\" (Mise à jour) https://t.co/Z1sIkNslN1 https://t.co/vdfQOkvqQD\n8                                                                                 La Belgique recevra-t-elle assez de doses de vaccin Johnson &amp; Johnson? \"On peut actuellement pointer l'absence de vision à long terme\" (Mise à jour) https://t.co/j38WAzGS6S https://t.co/0LZjkQmVUe\n9                                                                                                           Où en sont les livraisons de vaccin Johnson &amp; Johnson en Belgique? \"On peut pointer l'absence de prédictions à long terme\" https://t.co/Z1sIkNslN1 https://t.co/eSyaiuJdHK\n10                                                                                                          Où en sont les livraisons de vaccin Johnson &amp; Johnson en Belgique? \"On peut pointer l'absence de prédictions à long terme\" https://t.co/j38WAzGS6S https://t.co/hSBFb8DTc7\n11                                                                                                                                                                                                                  Plus de 80% des Japonais contre les JO cet été https://t.co/I6rQKSeZhU\n12                                                                                                                                                            Oula devinez qui va se faire vacciner mardi avec du JOHNSON&amp;JOHNSON (monodose yep) 👀 LES BELGES: INSCRIVEZ VOUS SUR QVAX\n13                                                                                                                                       Covid-19 en 24h : ouvertures le dimanche, intentions d'investissements des PME/TPE, Johnson &amp; Johnson... - La Tribune https://t.co/nQPGEEG2qO\n14            New York propose des séjours vacances + vaccin Janssen 🇧🇪🇪🇺/Johnson &amp; Johnson 🇺🇸 ?   Saint-Marin 🇸🇲 propose les 2 doses de Sputnik-V pour 50 € si vs séjournez au moins 3 nuits ds la principauté.  @gregphil @Loig_L @loicdelamornais @gkuehn   https://t.co/tsSp36FAol\n15                                                                                                  J'avais mis ce RDV Janssen Johnson &amp; Johnson à disposition sur @covidliste de @GuillaumeRozier, mais si @doctolib ne propose pas en ligne ce RDV libéré, cela ne peut fonctionner.\n16                                                                                                                                                                                                                            Pourquoi y’a pas le vaccin Johnson &amp; Johnson en France ?\n17                                                                                                                                                                                                          @ElyssFr Je comprends pourquoi je voulais à tout prix le Johnson &amp; Johnson\n18                                                                                                                                       Covid-19 en 24h : ouvertures le dimanche, intentions d'investissements des PME/TPE, Johnson &amp; Johnson... - La Tribune https://t.co/nQPGEEG2qO\n19                                                                                      🇫🇷 🚗 Époétine-alfa Érythropoïétine Marché 2021-2026 rapport analytique complet – Amgen, Johnson &amp; Johnson, Roche, Galenica – Eechobuzz https://t.co/194fnOCehx  #vehiculeautonome #echobuzz221\n20                                                                                                              Un médecin, qui passait son temps à se moquer et à attaquer les \"anti-vaccins \", se fait vacciner la semaine dernière et a succombé en une semaine https://t.co/T645WnEr6Y\nName: Tweet Text, dtype: object have the wrong format. The should be either of type `str` or type `list`"
     ]
    }
   ],
   "source": [
    "test_translated_text = translation(test[\"Tweet Text\"], max_length=140)[0]['translation_text']"
   ]
  },
  {
   "cell_type": "code",
   "execution_count": null,
   "metadata": {},
   "outputs": [],
   "source": []
  }
 ],
 "metadata": {
  "kernelspec": {
   "display_name": "Python 3",
   "language": "python",
   "name": "python3"
  },
  "language_info": {
   "codemirror_mode": {
    "name": "ipython",
    "version": 3
   },
   "file_extension": ".py",
   "mimetype": "text/x-python",
   "name": "python",
   "nbconvert_exporter": "python",
   "pygments_lexer": "ipython3",
   "version": "3.7.3"
  }
 },
 "nbformat": 4,
 "nbformat_minor": 2
}
