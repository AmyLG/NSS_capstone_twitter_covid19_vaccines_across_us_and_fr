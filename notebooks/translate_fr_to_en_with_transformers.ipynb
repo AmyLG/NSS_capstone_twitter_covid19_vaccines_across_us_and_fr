{
 "cells": [
  {
   "cell_type": "code",
   "execution_count": 57,
   "metadata": {},
   "outputs": [],
   "source": [
    "import pandas as pd\n",
    "from transformers import pipeline\n",
    "from transformers import AutoModelWithLMHead, AutoTokenizer"
   ]
  },
  {
   "cell_type": "code",
   "execution_count": 16,
   "metadata": {},
   "outputs": [],
   "source": [
    "pd.options.display.max_columns = None\n",
    "pd.options.display.max_rows = None\n",
    "pd.set_option('display.width', None)\n",
    "pd.set_option('display.max_colwidth', None)"
   ]
  },
  {
   "cell_type": "code",
   "execution_count": 2,
   "metadata": {},
   "outputs": [
    {
     "name": "stderr",
     "output_type": "stream",
     "text": [
      "/Users/armelleleguelte/anaconda3/lib/python3.7/site-packages/transformers/models/auto/modeling_auto.py:810: FutureWarning: The class `AutoModelWithLMHead` is deprecated and will be removed in a future version. Please use `AutoModelForCausalLM` for causal language models, `AutoModelForMaskedLM` for masked language models and `AutoModelForSeq2SeqLM` for encoder-decoder models.\n",
      "  FutureWarning,\n"
     ]
    },
    {
     "data": {
      "application/vnd.jupyter.widget-view+json": {
       "model_id": "29a18bde99154aa9aa2d32e9e757cf06",
       "version_major": 2,
       "version_minor": 0
      },
      "text/plain": [
       "Downloading:   0%|          | 0.00/802k [00:00<?, ?B/s]"
      ]
     },
     "metadata": {},
     "output_type": "display_data"
    },
    {
     "data": {
      "application/vnd.jupyter.widget-view+json": {
       "model_id": "b05189e1649b4fb982fec6ba5e41e59e",
       "version_major": 2,
       "version_minor": 0
      },
      "text/plain": [
       "Downloading:   0%|          | 0.00/778k [00:00<?, ?B/s]"
      ]
     },
     "metadata": {},
     "output_type": "display_data"
    },
    {
     "data": {
      "application/vnd.jupyter.widget-view+json": {
       "model_id": "ca8c0fe3ed494ab5bb3dd3e930f267e3",
       "version_major": 2,
       "version_minor": 0
      },
      "text/plain": [
       "Downloading:   0%|          | 0.00/1.34M [00:00<?, ?B/s]"
      ]
     },
     "metadata": {},
     "output_type": "display_data"
    },
    {
     "data": {
      "application/vnd.jupyter.widget-view+json": {
       "model_id": "6f6faa000458427f8e0a5bde8e19754d",
       "version_major": 2,
       "version_minor": 0
      },
      "text/plain": [
       "Downloading:   0%|          | 0.00/42.0 [00:00<?, ?B/s]"
      ]
     },
     "metadata": {},
     "output_type": "display_data"
    }
   ],
   "source": [
    "model = AutoModelWithLMHead.from_pretrained(\"Helsinki-NLP/opus-mt-fr-en\")\n",
    "tokenizer = AutoTokenizer.from_pretrained(\"Helsinki-NLP/opus-mt-fr-en\")"
   ]
  },
  {
   "cell_type": "code",
   "execution_count": 3,
   "metadata": {},
   "outputs": [],
   "source": [
    "translation = pipeline(\"translation_fr_to_en\", model=model, tokenizer=tokenizer)"
   ]
  },
  {
   "cell_type": "code",
   "execution_count": 4,
   "metadata": {},
   "outputs": [
    {
     "name": "stdout",
     "output_type": "stream",
     "text": [
      "@Sante_Gouv 1st dose today in moderna for me apart from shoulder pain all is well :)\n"
     ]
    }
   ],
   "source": [
    "text = \"@Sante_Gouv 1ere dose aujourd'hui en moderna pour moi a part douleur a l'épaule tout vas bien :)\"\n",
    "translated_text = translation(text, max_length=40)[0]['translation_text']\n",
    "print(translated_text)"
   ]
  },
  {
   "cell_type": "code",
   "execution_count": 99,
   "metadata": {},
   "outputs": [],
   "source": [
    "test = pd.read_csv('../data/tweets_fr/JandJ/tweets_fr_jandj_2021_05_19_to_05_14.csv')"
   ]
  },
  {
   "cell_type": "code",
   "execution_count": 100,
   "metadata": {},
   "outputs": [
    {
     "data": {
      "text/plain": [
       "(21, 9)"
      ]
     },
     "execution_count": 100,
     "metadata": {},
     "output_type": "execute_result"
    }
   ],
   "source": [
    "test.shape"
   ]
  },
  {
   "cell_type": "code",
   "execution_count": 101,
   "metadata": {},
   "outputs": [],
   "source": [
    "test = test[['Tweet Id', 'Tweet Text']]"
   ]
  },
  {
   "cell_type": "code",
   "execution_count": 102,
   "metadata": {
    "scrolled": true
   },
   "outputs": [
    {
     "data": {
      "text/html": [
       "<div>\n",
       "<style scoped>\n",
       "    .dataframe tbody tr th:only-of-type {\n",
       "        vertical-align: middle;\n",
       "    }\n",
       "\n",
       "    .dataframe tbody tr th {\n",
       "        vertical-align: top;\n",
       "    }\n",
       "\n",
       "    .dataframe thead th {\n",
       "        text-align: right;\n",
       "    }\n",
       "</style>\n",
       "<table border=\"1\" class=\"dataframe\">\n",
       "  <thead>\n",
       "    <tr style=\"text-align: right;\">\n",
       "      <th></th>\n",
       "      <th>Tweet Id</th>\n",
       "      <th>Tweet Text</th>\n",
       "    </tr>\n",
       "  </thead>\n",
       "  <tbody>\n",
       "    <tr>\n",
       "      <th>0</th>\n",
       "      <td>1395070529724370944</td>\n",
       "      <td>b\"En live du meetup  #dataprivacy --&amp;gt; la #pseudonymisation n\\xc3\\xa9cessite des actions diff\\xc3\\xa9rentes par rapport \\xc3\\xa0 l'anonymisation selon Val\\xc3\\xa9rie Gabay, Senior Manager Data Privacy chez  Johnson &amp;amp; Johnson https://t.co/yRB6j8FKrq\"</td>\n",
       "    </tr>\n",
       "    <tr>\n",
       "      <th>1</th>\n",
       "      <td>1394763808799961090</td>\n",
       "      <td>b\"Johnson &amp;amp; Johnson a \\xc3\\xa9t\\xc3\\xa9 condamn\\xc3\\xa9e plusieurs fois pour avoir sous-estim\\xc3\\xa9 les risques et surestim\\xc3\\xa9 les b\\xc3\\xa9n\\xc3\\xa9fices d'opio\\xc3\\xafdes, participant ainsi \\xc3\\xa0 la crise des opio\\xc3\\xafdes.  \\nC'est \\xc3\\xa0 ce genre d'entreprise qu'on vous demande de faire confiance aveugl\\xc3\\xa9ment.\\nhttps://t.co/MVCRGHL75t\"</td>\n",
       "    </tr>\n",
       "  </tbody>\n",
       "</table>\n",
       "</div>"
      ],
      "text/plain": [
       "              Tweet Id  \\\n",
       "0  1395070529724370944   \n",
       "1  1394763808799961090   \n",
       "\n",
       "                                                                                                                                                                                                                                                                                                                                                                      Tweet Text  \n",
       "0                                                                                                                b\"En live du meetup  #dataprivacy --&gt; la #pseudonymisation n\\xc3\\xa9cessite des actions diff\\xc3\\xa9rentes par rapport \\xc3\\xa0 l'anonymisation selon Val\\xc3\\xa9rie Gabay, Senior Manager Data Privacy chez  Johnson &amp; Johnson https://t.co/yRB6j8FKrq\"  \n",
       "1  b\"Johnson &amp; Johnson a \\xc3\\xa9t\\xc3\\xa9 condamn\\xc3\\xa9e plusieurs fois pour avoir sous-estim\\xc3\\xa9 les risques et surestim\\xc3\\xa9 les b\\xc3\\xa9n\\xc3\\xa9fices d'opio\\xc3\\xafdes, participant ainsi \\xc3\\xa0 la crise des opio\\xc3\\xafdes.  \\nC'est \\xc3\\xa0 ce genre d'entreprise qu'on vous demande de faire confiance aveugl\\xc3\\xa9ment.\\nhttps://t.co/MVCRGHL75t\"  "
      ]
     },
     "execution_count": 102,
     "metadata": {},
     "output_type": "execute_result"
    }
   ],
   "source": [
    "test.head(2)"
   ]
  },
  {
   "cell_type": "code",
   "execution_count": 103,
   "metadata": {},
   "outputs": [],
   "source": [
    "test[\"Tweet Text\"] = test[\"Tweet Text\"].map(lambda x: eval(x).decode(\"utf-8\").replace('\\n', ' ')).to_frame()"
   ]
  },
  {
   "cell_type": "code",
   "execution_count": 104,
   "metadata": {
    "scrolled": true
   },
   "outputs": [
    {
     "data": {
      "text/html": [
       "<div>\n",
       "<style scoped>\n",
       "    .dataframe tbody tr th:only-of-type {\n",
       "        vertical-align: middle;\n",
       "    }\n",
       "\n",
       "    .dataframe tbody tr th {\n",
       "        vertical-align: top;\n",
       "    }\n",
       "\n",
       "    .dataframe thead th {\n",
       "        text-align: right;\n",
       "    }\n",
       "</style>\n",
       "<table border=\"1\" class=\"dataframe\">\n",
       "  <thead>\n",
       "    <tr style=\"text-align: right;\">\n",
       "      <th></th>\n",
       "      <th>Tweet Id</th>\n",
       "      <th>Tweet Text</th>\n",
       "    </tr>\n",
       "  </thead>\n",
       "  <tbody>\n",
       "    <tr>\n",
       "      <th>0</th>\n",
       "      <td>1395070529724370944</td>\n",
       "      <td>En live du meetup  #dataprivacy --&amp;gt; la #pseudonymisation nécessite des actions différentes par rapport à l'anonymisation selon Valérie Gabay, Senior Manager Data Privacy chez  Johnson &amp;amp; Johnson https://t.co/yRB6j8FKrq</td>\n",
       "    </tr>\n",
       "    <tr>\n",
       "      <th>1</th>\n",
       "      <td>1394763808799961090</td>\n",
       "      <td>Johnson &amp;amp; Johnson a été condamnée plusieurs fois pour avoir sous-estimé les risques et surestimé les bénéfices d'opioïdes, participant ainsi à la crise des opioïdes.   C'est à ce genre d'entreprise qu'on vous demande de faire confiance aveuglément. https://t.co/MVCRGHL75t</td>\n",
       "    </tr>\n",
       "    <tr>\n",
       "      <th>2</th>\n",
       "      <td>1394617668804743168</td>\n",
       "      <td>Une jeune mère souffre d'une hémorragie cérébrale après le vaccin Johnson &amp;amp; Johnson https://t.co/quTdfoy3W7</td>\n",
       "    </tr>\n",
       "  </tbody>\n",
       "</table>\n",
       "</div>"
      ],
      "text/plain": [
       "              Tweet Id  \\\n",
       "0  1395070529724370944   \n",
       "1  1394763808799961090   \n",
       "2  1394617668804743168   \n",
       "\n",
       "                                                                                                                                                                                                                                                                             Tweet Text  \n",
       "0                                                      En live du meetup  #dataprivacy --&gt; la #pseudonymisation nécessite des actions différentes par rapport à l'anonymisation selon Valérie Gabay, Senior Manager Data Privacy chez  Johnson &amp; Johnson https://t.co/yRB6j8FKrq  \n",
       "1  Johnson &amp; Johnson a été condamnée plusieurs fois pour avoir sous-estimé les risques et surestimé les bénéfices d'opioïdes, participant ainsi à la crise des opioïdes.   C'est à ce genre d'entreprise qu'on vous demande de faire confiance aveuglément. https://t.co/MVCRGHL75t  \n",
       "2                                                                                                                                                                       Une jeune mère souffre d'une hémorragie cérébrale après le vaccin Johnson &amp; Johnson https://t.co/quTdfoy3W7  "
      ]
     },
     "execution_count": 104,
     "metadata": {},
     "output_type": "execute_result"
    }
   ],
   "source": [
    "test.head(3)"
   ]
  },
  {
   "cell_type": "code",
   "execution_count": 134,
   "metadata": {
    "scrolled": true
   },
   "outputs": [
    {
     "name": "stdout",
     "output_type": "stream",
     "text": [
      "{'translation_text': 'New York offers holiday stays + Janssen vaccine, Johnson, Johnson &amp. San Marino offers 2 doses of Sputnik-V for 50 € if vs stay at least 3 nights ds the principality. @gregphil @Loig_L @loicdelamornais @gkuehn https://t.co/tsSp36FAol'}\n"
     ]
    }
   ],
   "source": [
    "text = \"New York propose des séjours vacances + vaccin Janssen 🇧🇪🇪🇺/Johnson &amp; Johnson 🇺🇸 ?   Saint-Marin 🇸🇲 propose les 2 doses de Sputnik-V pour 50 € si vs séjournez au moins 3 nuits ds la principauté.  @gregphil @Loig_L @loicdelamornais @gkuehn   https://t.co/tsSp36FAol\"\n",
    "translated_text = translation(text, max_length=140)[0]['translation_text']\n",
    "print(translated_text)"
   ]
  },
  {
   "cell_type": "code",
   "execution_count": 146,
   "metadata": {},
   "outputs": [],
   "source": [
    "test2 = test.head(2)"
   ]
  },
  {
   "cell_type": "code",
   "execution_count": 147,
   "metadata": {
    "scrolled": true
   },
   "outputs": [
    {
     "data": {
      "text/html": [
       "<div>\n",
       "<style scoped>\n",
       "    .dataframe tbody tr th:only-of-type {\n",
       "        vertical-align: middle;\n",
       "    }\n",
       "\n",
       "    .dataframe tbody tr th {\n",
       "        vertical-align: top;\n",
       "    }\n",
       "\n",
       "    .dataframe thead th {\n",
       "        text-align: right;\n",
       "    }\n",
       "</style>\n",
       "<table border=\"1\" class=\"dataframe\">\n",
       "  <thead>\n",
       "    <tr style=\"text-align: right;\">\n",
       "      <th></th>\n",
       "      <th>Tweet Id</th>\n",
       "      <th>Tweet Text</th>\n",
       "    </tr>\n",
       "  </thead>\n",
       "  <tbody>\n",
       "    <tr>\n",
       "      <th>0</th>\n",
       "      <td>1395070529724370944</td>\n",
       "      <td>En live du meetup  #dataprivacy --&amp;gt; la #pseudonymisation nécessite des actions différentes par rapport à l'anonymisation selon Valérie Gabay, Senior Manager Data Privacy chez  Johnson &amp;amp; Johnson https://t.co/yRB6j8FKrq</td>\n",
       "    </tr>\n",
       "    <tr>\n",
       "      <th>1</th>\n",
       "      <td>1394763808799961090</td>\n",
       "      <td>Johnson &amp;amp; Johnson a été condamnée plusieurs fois pour avoir sous-estimé les risques et surestimé les bénéfices d'opioïdes, participant ainsi à la crise des opioïdes.   C'est à ce genre d'entreprise qu'on vous demande de faire confiance aveuglément. https://t.co/MVCRGHL75t</td>\n",
       "    </tr>\n",
       "  </tbody>\n",
       "</table>\n",
       "</div>"
      ],
      "text/plain": [
       "              Tweet Id  \\\n",
       "0  1395070529724370944   \n",
       "1  1394763808799961090   \n",
       "\n",
       "                                                                                                                                                                                                                                                                             Tweet Text  \n",
       "0                                                      En live du meetup  #dataprivacy --&gt; la #pseudonymisation nécessite des actions différentes par rapport à l'anonymisation selon Valérie Gabay, Senior Manager Data Privacy chez  Johnson &amp; Johnson https://t.co/yRB6j8FKrq  \n",
       "1  Johnson &amp; Johnson a été condamnée plusieurs fois pour avoir sous-estimé les risques et surestimé les bénéfices d'opioïdes, participant ainsi à la crise des opioïdes.   C'est à ce genre d'entreprise qu'on vous demande de faire confiance aveuglément. https://t.co/MVCRGHL75t  "
      ]
     },
     "execution_count": 147,
     "metadata": {},
     "output_type": "execute_result"
    }
   ],
   "source": [
    "test2"
   ]
  },
  {
   "cell_type": "code",
   "execution_count": 148,
   "metadata": {},
   "outputs": [],
   "source": [
    "def translate_fr_en(text):\n",
    "    translated_text = translation(text, max_length=140)[0]['translation_text']\n",
    "    return translated_text"
   ]
  },
  {
   "cell_type": "code",
   "execution_count": 151,
   "metadata": {
    "scrolled": false
   },
   "outputs": [],
   "source": [
    "test[\"translate_text\"] = test[\"Tweet Text\"].apply(translate_fr_en)"
   ]
  },
  {
   "cell_type": "code",
   "execution_count": 152,
   "metadata": {},
   "outputs": [
    {
     "data": {
      "text/html": [
       "<div>\n",
       "<style scoped>\n",
       "    .dataframe tbody tr th:only-of-type {\n",
       "        vertical-align: middle;\n",
       "    }\n",
       "\n",
       "    .dataframe tbody tr th {\n",
       "        vertical-align: top;\n",
       "    }\n",
       "\n",
       "    .dataframe thead th {\n",
       "        text-align: right;\n",
       "    }\n",
       "</style>\n",
       "<table border=\"1\" class=\"dataframe\">\n",
       "  <thead>\n",
       "    <tr style=\"text-align: right;\">\n",
       "      <th></th>\n",
       "      <th>Tweet Id</th>\n",
       "      <th>Tweet Text</th>\n",
       "      <th>translate_text</th>\n",
       "    </tr>\n",
       "  </thead>\n",
       "  <tbody>\n",
       "    <tr>\n",
       "      <th>0</th>\n",
       "      <td>1395070529724370944</td>\n",
       "      <td>En live du meetup  #dataprivacy --&amp;gt; la #pseudonymisation nécessite des actions différentes par rapport à l'anonymisation selon Valérie Gabay, Senior Manager Data Privacy chez  Johnson &amp;amp; Johnson https://t.co/yRB6j8FKrq</td>\n",
       "      <td>Live meeting #dataprivacy --&amp;gt; #pseudonymization requires different actions compared to anonymization according to Valérie Gabay, Senior Manager Data Privacy at Johnson &amp;amp; Johnson https://t.co/yRB6j8FKrq</td>\n",
       "    </tr>\n",
       "    <tr>\n",
       "      <th>1</th>\n",
       "      <td>1394763808799961090</td>\n",
       "      <td>Johnson &amp;amp; Johnson a été condamnée plusieurs fois pour avoir sous-estimé les risques et surestimé les bénéfices d'opioïdes, participant ainsi à la crise des opioïdes.   C'est à ce genre d'entreprise qu'on vous demande de faire confiance aveuglément. https://t.co/MVCRGHL75t</td>\n",
       "      <td>Johnson &amp;amp; Johnson has been condemned several times for underestimating the risks and overestimating the benefits of opioids, thus participating in the opioids crisis. It is in this kind of business that you are asked to trust blindly. https://t.co/MVCRGHL75t</td>\n",
       "    </tr>\n",
       "    <tr>\n",
       "      <th>2</th>\n",
       "      <td>1394617668804743168</td>\n",
       "      <td>Une jeune mère souffre d'une hémorragie cérébrale après le vaccin Johnson &amp;amp; Johnson https://t.co/quTdfoy3W7</td>\n",
       "      <td>A young mother suffers from cerebral haemorrhage after Johnson &amp;amp; Johnson vaccine https://t.co/quTdfoy3W7</td>\n",
       "    </tr>\n",
       "    <tr>\n",
       "      <th>3</th>\n",
       "      <td>1394565653865148421</td>\n",
       "      <td>Quand tu souhaites te faire vacciner à 40 ans mais que tu as le choix entre l’ARN...et l’ARN...alors qu’il y a des Johnson &amp;amp; Johnson disponibles. Pays de cons Acte 22, scène 18.</td>\n",
       "      <td>When you want to get vaccinated at 40 but you have a choice between RNA...and RNA... while there are Johnson and Johnson available. Land of Cons Act 22, Scene 18.</td>\n",
       "    </tr>\n",
       "    <tr>\n",
       "      <th>4</th>\n",
       "      <td>1394548306026577921</td>\n",
       "      <td>Feu vert de l'UE pour le vaccin Johnson &amp;amp; Johnson https://t.co/Lz8CWhLoTk</td>\n",
       "      <td>EU green light for Johnson &amp;amp; Johnson vaccine https://t.co/Lz8CWhLoTk</td>\n",
       "    </tr>\n",
       "    <tr>\n",
       "      <th>5</th>\n",
       "      <td>1394314967420227586</td>\n",
       "      <td>@HenriTsr @BFMTV il y a johnson&amp;amp;johnson maintenant aussi</td>\n",
       "      <td>@HenriTsr @BFMTV there is johnson&amp;amp;johnson now also</td>\n",
       "    </tr>\n",
       "    <tr>\n",
       "      <th>6</th>\n",
       "      <td>1394294679764676610</td>\n",
       "      <td>Covid-19 en 24h : ouvertures le dimanche, intentions d'investissements des PME/TPE, Johnson &amp;amp; Johnson... - La Tribune https://t.co/nQPGEEG2qO</td>\n",
       "      <td>Covid-19 in 24 hours: openings on Sundays, investment intentions of SMEs/TPE, Johnson &amp;amp; Johnson... - La Tribune https://t.co/nQPGEEG2qO</td>\n",
       "    </tr>\n",
       "    <tr>\n",
       "      <th>7</th>\n",
       "      <td>1394287463196209152</td>\n",
       "      <td>La Belgique recevra-t-elle assez de doses de vaccin Johnson &amp;amp; Johnson? \"On peut actuellement pointer l'absence de vision à long terme\" (Mise à jour) https://t.co/Z1sIkNslN1 https://t.co/vdfQOkvqQD</td>\n",
       "      <td>Will Belgium receive enough doses of Johnson &amp;amp; Johnson vaccine? \"We can now point to the lack of long-term vision\" (Update) https://t.co/Z1sIkNslN1 https://t.co/vdfQOkvqQD</td>\n",
       "    </tr>\n",
       "    <tr>\n",
       "      <th>8</th>\n",
       "      <td>1394287362176397316</td>\n",
       "      <td>La Belgique recevra-t-elle assez de doses de vaccin Johnson &amp;amp; Johnson? \"On peut actuellement pointer l'absence de vision à long terme\" (Mise à jour) https://t.co/j38WAzGS6S https://t.co/0LZjkQmVUe</td>\n",
       "      <td>Will Belgium receive enough doses of Johnson &amp;amp; Johnson vaccine? \"We can now point to the lack of long-term vision\" (Update) https://t.co/j38WAzGS6S https://t.co/0LZjkQmVUe</td>\n",
       "    </tr>\n",
       "    <tr>\n",
       "      <th>9</th>\n",
       "      <td>1394278049550585862</td>\n",
       "      <td>Où en sont les livraisons de vaccin Johnson &amp;amp; Johnson en Belgique? \"On peut pointer l'absence de prédictions à long terme\" https://t.co/Z1sIkNslN1 https://t.co/eSyaiuJdHK</td>\n",
       "      <td>What's the status of Johnson vaccine deliveries in Belgium? \"We can point to the lack of long-term predictions\" https://t.co/Z1sIkNslN1 https://t.co/eSyaiuJdHK</td>\n",
       "    </tr>\n",
       "    <tr>\n",
       "      <th>10</th>\n",
       "      <td>1394276619917959169</td>\n",
       "      <td>Où en sont les livraisons de vaccin Johnson &amp;amp; Johnson en Belgique? \"On peut pointer l'absence de prédictions à long terme\" https://t.co/j38WAzGS6S https://t.co/hSBFb8DTc7</td>\n",
       "      <td>What's the status of Johnson &amp;amp; Johnson vaccine deliveries in Belgium? \"We can point to the lack of long-term predictions\" https://t.co/j38WAzGS6S https://t.co/hSBFb8DTc7</td>\n",
       "    </tr>\n",
       "    <tr>\n",
       "      <th>11</th>\n",
       "      <td>1394181730601472000</td>\n",
       "      <td>Plus de 80% des Japonais contre les JO cet été https://t.co/I6rQKSeZhU</td>\n",
       "      <td>More than 80% of Japanese against the Olympics this summer https://t.co/I6rQKSeZhU</td>\n",
       "    </tr>\n",
       "    <tr>\n",
       "      <th>12</th>\n",
       "      <td>1393845091526135808</td>\n",
       "      <td>Oula devinez qui va se faire vacciner mardi avec du JOHNSON&amp;amp;JOHNSON (monodose yep) 👀 LES BELGES: INSCRIVEZ VOUS SUR QVAX</td>\n",
       "      <td>Oula guess who's going to get vaccinated on Tuesday with JOHNSON&amp;amp;JOHNSON (one-dose yes)</td>\n",
       "    </tr>\n",
       "    <tr>\n",
       "      <th>13</th>\n",
       "      <td>1393705871121715200</td>\n",
       "      <td>Covid-19 en 24h : ouvertures le dimanche, intentions d'investissements des PME/TPE, Johnson &amp;amp; Johnson... - La Tribune https://t.co/nQPGEEG2qO</td>\n",
       "      <td>Covid-19 in 24 hours: openings on Sundays, investment intentions of SMEs/TPE, Johnson &amp;amp; Johnson... - La Tribune https://t.co/nQPGEEG2qO</td>\n",
       "    </tr>\n",
       "    <tr>\n",
       "      <th>14</th>\n",
       "      <td>1393659747761639425</td>\n",
       "      <td>New York propose des séjours vacances + vaccin Janssen 🇧🇪🇪🇺/Johnson &amp;amp; Johnson 🇺🇸 ?   Saint-Marin 🇸🇲 propose les 2 doses de Sputnik-V pour 50 € si vs séjournez au moins 3 nuits ds la principauté.  @gregphil @Loig_L @loicdelamornais @gkuehn   https://t.co/tsSp36FAol</td>\n",
       "      <td>New York offers holiday stays + Janssen vaccine, Johnson, Johnson &amp;amp. San Marino offers 2 doses of Sputnik-V for 50 € if vs stay at least 3 nights ds the principality. @gregphil @Loig_L @loicdelamornais @gkuehn https://t.co/tsSp36FAol</td>\n",
       "    </tr>\n",
       "    <tr>\n",
       "      <th>15</th>\n",
       "      <td>1393499256254836747</td>\n",
       "      <td>J'avais mis ce RDV Janssen Johnson &amp;amp; Johnson à disposition sur @covidliste de @GuillaumeRozier, mais si @doctolib ne propose pas en ligne ce RDV libéré, cela ne peut fonctionner.</td>\n",
       "      <td>I made this appointment Janssen Johnson &amp;amp; Johnson available on @GuillaumeRozier's @covidlist, but if @doctolib doesn't offer this freed appointment online, it can't work.</td>\n",
       "    </tr>\n",
       "    <tr>\n",
       "      <th>16</th>\n",
       "      <td>1393337995047145481</td>\n",
       "      <td>Pourquoi y’a pas le vaccin Johnson &amp;amp; Johnson en France ?</td>\n",
       "      <td>Why isn't Johnson vaccine in France?</td>\n",
       "    </tr>\n",
       "    <tr>\n",
       "      <th>17</th>\n",
       "      <td>1393293968234983429</td>\n",
       "      <td>@ElyssFr Je comprends pourquoi je voulais à tout prix le Johnson &amp;amp; Johnson</td>\n",
       "      <td>@ElyssFr I understand why I wanted Johnson at all costs</td>\n",
       "    </tr>\n",
       "    <tr>\n",
       "      <th>18</th>\n",
       "      <td>1393132177077018625</td>\n",
       "      <td>Covid-19 en 24h : ouvertures le dimanche, intentions d'investissements des PME/TPE, Johnson &amp;amp; Johnson... - La Tribune https://t.co/nQPGEEG2qO</td>\n",
       "      <td>Covid-19 in 24 hours: openings on Sundays, investment intentions of SMEs/TPE, Johnson &amp;amp; Johnson... - La Tribune https://t.co/nQPGEEG2qO</td>\n",
       "    </tr>\n",
       "    <tr>\n",
       "      <th>19</th>\n",
       "      <td>1393115497743409153</td>\n",
       "      <td>🇫🇷 🚗 Époétine-alfa Érythropoïétine Marché 2021-2026 rapport analytique complet – Amgen, Johnson &amp;amp; Johnson, Roche, Galenica – Eechobuzz https://t.co/194fnOCehx  #vehiculeautonome #echobuzz221</td>\n",
       "      <td>Echobuzz221 - Echobuzz https://t.co/194fnOCehx #autonomous vehicle #echobuzz221</td>\n",
       "    </tr>\n",
       "    <tr>\n",
       "      <th>20</th>\n",
       "      <td>1393036603615031298</td>\n",
       "      <td>Un médecin, qui passait son temps à se moquer et à attaquer les \"anti-vaccins \", se fait vacciner la semaine dernière et a succombé en une semaine https://t.co/T645WnEr6Y</td>\n",
       "      <td>A doctor who spent his time mocking and attacking \"anti-vaccines \" gets vaccinated last week and died in a week https://t.co/T645WnEr6Y</td>\n",
       "    </tr>\n",
       "  </tbody>\n",
       "</table>\n",
       "</div>"
      ],
      "text/plain": [
       "               Tweet Id  \\\n",
       "0   1395070529724370944   \n",
       "1   1394763808799961090   \n",
       "2   1394617668804743168   \n",
       "3   1394565653865148421   \n",
       "4   1394548306026577921   \n",
       "5   1394314967420227586   \n",
       "6   1394294679764676610   \n",
       "7   1394287463196209152   \n",
       "8   1394287362176397316   \n",
       "9   1394278049550585862   \n",
       "10  1394276619917959169   \n",
       "11  1394181730601472000   \n",
       "12  1393845091526135808   \n",
       "13  1393705871121715200   \n",
       "14  1393659747761639425   \n",
       "15  1393499256254836747   \n",
       "16  1393337995047145481   \n",
       "17  1393293968234983429   \n",
       "18  1393132177077018625   \n",
       "19  1393115497743409153   \n",
       "20  1393036603615031298   \n",
       "\n",
       "                                                                                                                                                                                                                                                                              Tweet Text  \\\n",
       "0                                                       En live du meetup  #dataprivacy --&gt; la #pseudonymisation nécessite des actions différentes par rapport à l'anonymisation selon Valérie Gabay, Senior Manager Data Privacy chez  Johnson &amp; Johnson https://t.co/yRB6j8FKrq   \n",
       "1   Johnson &amp; Johnson a été condamnée plusieurs fois pour avoir sous-estimé les risques et surestimé les bénéfices d'opioïdes, participant ainsi à la crise des opioïdes.   C'est à ce genre d'entreprise qu'on vous demande de faire confiance aveuglément. https://t.co/MVCRGHL75t   \n",
       "2                                                                                                                                                                        Une jeune mère souffre d'une hémorragie cérébrale après le vaccin Johnson &amp; Johnson https://t.co/quTdfoy3W7   \n",
       "3                                                                                                  Quand tu souhaites te faire vacciner à 40 ans mais que tu as le choix entre l’ARN...et l’ARN...alors qu’il y a des Johnson &amp; Johnson disponibles. Pays de cons Acte 22, scène 18.   \n",
       "4                                                                                                                                                                                                          Feu vert de l'UE pour le vaccin Johnson &amp; Johnson https://t.co/Lz8CWhLoTk   \n",
       "5                                                                                                                                                                                                                           @HenriTsr @BFMTV il y a johnson&amp;johnson maintenant aussi   \n",
       "6                                                                                                                                      Covid-19 en 24h : ouvertures le dimanche, intentions d'investissements des PME/TPE, Johnson &amp; Johnson... - La Tribune https://t.co/nQPGEEG2qO   \n",
       "7                                                                               La Belgique recevra-t-elle assez de doses de vaccin Johnson &amp; Johnson? \"On peut actuellement pointer l'absence de vision à long terme\" (Mise à jour) https://t.co/Z1sIkNslN1 https://t.co/vdfQOkvqQD   \n",
       "8                                                                               La Belgique recevra-t-elle assez de doses de vaccin Johnson &amp; Johnson? \"On peut actuellement pointer l'absence de vision à long terme\" (Mise à jour) https://t.co/j38WAzGS6S https://t.co/0LZjkQmVUe   \n",
       "9                                                                                                         Où en sont les livraisons de vaccin Johnson &amp; Johnson en Belgique? \"On peut pointer l'absence de prédictions à long terme\" https://t.co/Z1sIkNslN1 https://t.co/eSyaiuJdHK   \n",
       "10                                                                                                        Où en sont les livraisons de vaccin Johnson &amp; Johnson en Belgique? \"On peut pointer l'absence de prédictions à long terme\" https://t.co/j38WAzGS6S https://t.co/hSBFb8DTc7   \n",
       "11                                                                                                                                                                                                                Plus de 80% des Japonais contre les JO cet été https://t.co/I6rQKSeZhU   \n",
       "12                                                                                                                                                          Oula devinez qui va se faire vacciner mardi avec du JOHNSON&amp;JOHNSON (monodose yep) 👀 LES BELGES: INSCRIVEZ VOUS SUR QVAX   \n",
       "13                                                                                                                                     Covid-19 en 24h : ouvertures le dimanche, intentions d'investissements des PME/TPE, Johnson &amp; Johnson... - La Tribune https://t.co/nQPGEEG2qO   \n",
       "14          New York propose des séjours vacances + vaccin Janssen 🇧🇪🇪🇺/Johnson &amp; Johnson 🇺🇸 ?   Saint-Marin 🇸🇲 propose les 2 doses de Sputnik-V pour 50 € si vs séjournez au moins 3 nuits ds la principauté.  @gregphil @Loig_L @loicdelamornais @gkuehn   https://t.co/tsSp36FAol   \n",
       "15                                                                                                J'avais mis ce RDV Janssen Johnson &amp; Johnson à disposition sur @covidliste de @GuillaumeRozier, mais si @doctolib ne propose pas en ligne ce RDV libéré, cela ne peut fonctionner.   \n",
       "16                                                                                                                                                                                                                          Pourquoi y’a pas le vaccin Johnson &amp; Johnson en France ?   \n",
       "17                                                                                                                                                                                                        @ElyssFr Je comprends pourquoi je voulais à tout prix le Johnson &amp; Johnson   \n",
       "18                                                                                                                                     Covid-19 en 24h : ouvertures le dimanche, intentions d'investissements des PME/TPE, Johnson &amp; Johnson... - La Tribune https://t.co/nQPGEEG2qO   \n",
       "19                                                                                    🇫🇷 🚗 Époétine-alfa Érythropoïétine Marché 2021-2026 rapport analytique complet – Amgen, Johnson &amp; Johnson, Roche, Galenica – Eechobuzz https://t.co/194fnOCehx  #vehiculeautonome #echobuzz221   \n",
       "20                                                                                                            Un médecin, qui passait son temps à se moquer et à attaquer les \"anti-vaccins \", se fait vacciner la semaine dernière et a succombé en une semaine https://t.co/T645WnEr6Y   \n",
       "\n",
       "                                                                                                                                                                                                                                                            translate_text  \n",
       "0                                                         Live meeting #dataprivacy --&gt; #pseudonymization requires different actions compared to anonymization according to Valérie Gabay, Senior Manager Data Privacy at Johnson &amp; Johnson https://t.co/yRB6j8FKrq  \n",
       "1   Johnson &amp; Johnson has been condemned several times for underestimating the risks and overestimating the benefits of opioids, thus participating in the opioids crisis. It is in this kind of business that you are asked to trust blindly. https://t.co/MVCRGHL75t  \n",
       "2                                                                                                                                                             A young mother suffers from cerebral haemorrhage after Johnson &amp; Johnson vaccine https://t.co/quTdfoy3W7  \n",
       "3                                                                                                       When you want to get vaccinated at 40 but you have a choice between RNA...and RNA... while there are Johnson and Johnson available. Land of Cons Act 22, Scene 18.  \n",
       "4                                                                                                                                                                                                 EU green light for Johnson &amp; Johnson vaccine https://t.co/Lz8CWhLoTk  \n",
       "5                                                                                                                                                                                                                   @HenriTsr @BFMTV there is johnson&amp;johnson now also  \n",
       "6                                                                                                                              Covid-19 in 24 hours: openings on Sundays, investment intentions of SMEs/TPE, Johnson &amp; Johnson... - La Tribune https://t.co/nQPGEEG2qO  \n",
       "7                                                                                          Will Belgium receive enough doses of Johnson &amp; Johnson vaccine? \"We can now point to the lack of long-term vision\" (Update) https://t.co/Z1sIkNslN1 https://t.co/vdfQOkvqQD  \n",
       "8                                                                                          Will Belgium receive enough doses of Johnson &amp; Johnson vaccine? \"We can now point to the lack of long-term vision\" (Update) https://t.co/j38WAzGS6S https://t.co/0LZjkQmVUe  \n",
       "9                                                                                                          What's the status of Johnson vaccine deliveries in Belgium? \"We can point to the lack of long-term predictions\" https://t.co/Z1sIkNslN1 https://t.co/eSyaiuJdHK  \n",
       "10                                                                                           What's the status of Johnson &amp; Johnson vaccine deliveries in Belgium? \"We can point to the lack of long-term predictions\" https://t.co/j38WAzGS6S https://t.co/hSBFb8DTc7  \n",
       "11                                                                                                                                                                                      More than 80% of Japanese against the Olympics this summer https://t.co/I6rQKSeZhU  \n",
       "12                                                                                                                                                                             Oula guess who's going to get vaccinated on Tuesday with JOHNSON&amp;JOHNSON (one-dose yes)  \n",
       "13                                                                                                                             Covid-19 in 24 hours: openings on Sundays, investment intentions of SMEs/TPE, Johnson &amp; Johnson... - La Tribune https://t.co/nQPGEEG2qO  \n",
       "14                            New York offers holiday stays + Janssen vaccine, Johnson, Johnson &amp. San Marino offers 2 doses of Sputnik-V for 50 € if vs stay at least 3 nights ds the principality. @gregphil @Loig_L @loicdelamornais @gkuehn https://t.co/tsSp36FAol  \n",
       "15                                                                                          I made this appointment Janssen Johnson &amp; Johnson available on @GuillaumeRozier's @covidlist, but if @doctolib doesn't offer this freed appointment online, it can't work.  \n",
       "16                                                                                                                                                                                                                                    Why isn't Johnson vaccine in France?  \n",
       "17                                                                                                                                                                                                                 @ElyssFr I understand why I wanted Johnson at all costs  \n",
       "18                                                                                                                             Covid-19 in 24 hours: openings on Sundays, investment intentions of SMEs/TPE, Johnson &amp; Johnson... - La Tribune https://t.co/nQPGEEG2qO  \n",
       "19                                                                                                                                                                                         Echobuzz221 - Echobuzz https://t.co/194fnOCehx #autonomous vehicle #echobuzz221  \n",
       "20                                                                                                                                 A doctor who spent his time mocking and attacking \"anti-vaccines \" gets vaccinated last week and died in a week https://t.co/T645WnEr6Y  "
      ]
     },
     "execution_count": 152,
     "metadata": {},
     "output_type": "execute_result"
    }
   ],
   "source": [
    "test"
   ]
  },
  {
   "cell_type": "code",
   "execution_count": null,
   "metadata": {},
   "outputs": [],
   "source": []
  }
 ],
 "metadata": {
  "kernelspec": {
   "display_name": "Python 3",
   "language": "python",
   "name": "python3"
  },
  "language_info": {
   "codemirror_mode": {
    "name": "ipython",
    "version": 3
   },
   "file_extension": ".py",
   "mimetype": "text/x-python",
   "name": "python",
   "nbconvert_exporter": "python",
   "pygments_lexer": "ipython3",
   "version": "3.7.3"
  }
 },
 "nbformat": 4,
 "nbformat_minor": 2
}
